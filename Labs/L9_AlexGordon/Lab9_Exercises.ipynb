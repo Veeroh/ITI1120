{
  "nbformat": 4,
  "nbformat_minor": 0,
  "metadata": {
    "colab": {
      "provenance": []
    },
    "kernelspec": {
      "name": "python3",
      "display_name": "Python 3"
    }
  },
  "cells": [
    {
      "cell_type": "markdown",
      "metadata": {
        "id": "-W5VGAMs5KAy"
      },
      "source": [
        "# Course: ITI1120 - F Fall 2022\n",
        " \n",
        "# LAB 9 - Exercises"
      ]
    },
    {
      "cell_type": "markdown",
      "metadata": {
        "id": "s08GOD7AFMvK"
      },
      "source": [
        "#Exercise 0"
      ]
    },
    {
      "cell_type": "code",
      "metadata": {
        "id": "vLe9ffSqFKlk",
        "colab": {
          "base_uri": "https://localhost:8080/"
        },
        "outputId": "f4573751-2a5e-4300-dfdc-d32079b79c02"
      },
      "source": [
        "def get_year():\n",
        "  year = input(\"Enter year: \") #prompt user for input\n",
        "\n",
        "  while True:\n",
        "\n",
        "    if not(year.isdigit()): #if the input isn't an int (i.e. string)\n",
        "      print(\"Please give a 4-digit number for the year.\")\n",
        "      year = input(\"Enter year: \")\n",
        "\n",
        "    elif (int(year) < 1000 or int(year) > 9999): #if the input is out of range\n",
        "      print(\"Please give a 4-digit number for the year.\")\n",
        "      year = input(\"Enter year: \")\n",
        "\n",
        "    else: #else return input\n",
        "      return int(year)\n",
        "\n",
        "get_year()"
      ],
      "execution_count": 59,
      "outputs": [
        {
          "name": "stdout",
          "output_type": "stream",
          "text": [
            "Enter year: 7978878\n",
            "Please give a 4-digit number for the year.\n",
            "Enter year: v68yuhjvj89uuy\n",
            "Please give a 4-digit number for the year.\n",
            "Enter year: 900\n",
            "Please give a 4-digit number for the year.\n",
            "Enter year: 7888\n"
          ]
        },
        {
          "output_type": "execute_result",
          "data": {
            "text/plain": [
              "7888"
            ]
          },
          "metadata": {},
          "execution_count": 59
        }
      ]
    },
    {
      "cell_type": "markdown",
      "metadata": {
        "id": "X4vB2ygNFcTn"
      },
      "source": [
        "#Exercise 1"
      ]
    },
    {
      "cell_type": "code",
      "metadata": {
        "id": "WzVwSeqmFf2k"
      },
      "source": [
        "# LINEAR SERACH FROM THE BACK OF THE LIST\n",
        "\n",
        "\n",
        "# implementation with while loop\n",
        "def linear_search_v1(lst, value):\n",
        "  ans = -1\n",
        "  i = 0\n",
        "  while i < len(lst):\n",
        "    if lst[i] == value:\n",
        "      ans = i\n",
        "      i += 1\n",
        "    return ans"
      ],
      "execution_count": 70,
      "outputs": []
    },
    {
      "cell_type": "code",
      "metadata": {
        "id": "7qxJy328KX2L",
        "colab": {
          "base_uri": "https://localhost:8080/"
        },
        "outputId": "f8fc77fc-be32-46ac-a4e3-db409a41a3b0"
      },
      "source": [
        "print(linear_search_v1([2, 5, 1, -3], 5)) #Expecting 1\n",
        "print(linear_search_v1([2, 4, 2], 2))     #Expecting 2\n",
        "print(linear_search_v1([2, 5, 1, -3], 4)) #Expecting -1\n",
        "print(linear_search_v1([], 5))            #Expecting -1"
      ],
      "execution_count": 71,
      "outputs": [
        {
          "output_type": "stream",
          "name": "stdout",
          "text": [
            "-1\n",
            "0\n",
            "-1\n",
            "None\n"
          ]
        }
      ]
    },
    {
      "cell_type": "code",
      "metadata": {
        "id": "yUbCa1dAJdfT"
      },
      "source": [
        "\n",
        "# implementation with for loop\n",
        "def linear_search_v2(lst, value):\n",
        "     ans = -1\n",
        "     for i in range(len(lst)):\n",
        "       if lst[i] == value:\n",
        "         ans = i\n",
        "     return ans"
      ],
      "execution_count": 72,
      "outputs": []
    },
    {
      "cell_type": "code",
      "metadata": {
        "id": "_Gzh_gHOK114",
        "colab": {
          "base_uri": "https://localhost:8080/"
        },
        "outputId": "6f473ae2-866f-4c2a-d603-d0394f447488"
      },
      "source": [
        "print(linear_search_v2([2, 5, 1, -3], 5)) # Expecting 1\n",
        "print(linear_search_v2([2, 4, 2], 2))     # Expecting 2\n",
        "print(linear_search_v2([2, 5, 1, -3], 4)) # Expecting -1\n",
        "print(linear_search_v2([], 5))            # Expecting -1"
      ],
      "execution_count": 73,
      "outputs": [
        {
          "output_type": "stream",
          "name": "stdout",
          "text": [
            "1\n",
            "2\n",
            "-1\n",
            "-1\n"
          ]
        }
      ]
    },
    {
      "cell_type": "code",
      "metadata": {
        "id": "x4oviz5bJgTl"
      },
      "source": [
        "\n",
        "#implementation with sentinal version:\n",
        "\n",
        "def linear_search_v3(lst, value):\n",
        "     ans = -1\n",
        "     flag = 0\n",
        "\n",
        "     try:\n",
        "       last = lst[-1]\n",
        "       lst[-1] = 'a'\n",
        "\n",
        "       if flag != 1:\n",
        "         i = 0\n",
        "         while lst[i] != 'a':\n",
        "           if lst[i] == value:\n",
        "             ans = i\n",
        "         \n",
        "         if last == value:\n",
        "           ans = i\n",
        "     except:\n",
        "          ans = -1\n",
        "     finally:\n",
        "          return ans\n"
      ],
      "execution_count": 76,
      "outputs": []
    },
    {
      "cell_type": "code",
      "metadata": {
        "id": "YCUJCCTNLFtl",
        "colab": {
          "base_uri": "https://localhost:8080/"
        },
        "outputId": "cab89583-f1ab-4b9a-c96c-bee52481d68e"
      },
      "source": [
        "print(linear_search_v3([2, 5, 1, -3], 5)) # Expecting 1\n",
        "print(linear_search_v3([2, 4, 2], 2))     # Expecting 2\n",
        "print(linear_search_v3([2, 5, 1, -3], 4)) # Expecting -1\n",
        "print(linear_search_v3([], 5))            # Expecting -1"
      ],
      "execution_count": 77,
      "outputs": [
        {
          "output_type": "stream",
          "name": "stdout",
          "text": [
            "-1\n",
            "-1\n",
            "-1\n",
            "-1\n"
          ]
        }
      ]
    },
    {
      "cell_type": "markdown",
      "metadata": {
        "id": "3a6C_iCzL6sh"
      },
      "source": [
        "# Exercise 2"
      ]
    },
    {
      "cell_type": "code",
      "metadata": {
        "id": "LLpH_fnOL6MI"
      },
      "source": [
        "def min_or_max_index(L, flag):\n",
        "  \n",
        "    result = None #initialize variables\n",
        "    index = None\n",
        "\n",
        "    for i in range(len(L)): #for loop repeating for the length of the list\n",
        "      if flag:\n",
        "        if result == None or result > L[i]: #if result is greater than L[i] \n",
        "          result = L[i]\n",
        "          index = i\n",
        "\n",
        "        else: \n",
        "          if result == None or result < L[i]: #if result is less than L[i]\n",
        "            result = L[i]\n",
        "            index = i\n",
        "\n",
        "    return(result,index) #return values\n",
        "\n",
        "\n"
      ],
      "execution_count": 68,
      "outputs": []
    },
    {
      "cell_type": "code",
      "metadata": {
        "id": "eLPGogMuMNZV",
        "colab": {
          "base_uri": "https://localhost:8080/"
        },
        "outputId": "1e98f9ef-2833-4625-9ef8-78c1976768ba"
      },
      "source": [
        "print(min_or_max_index([4, 3, 2, 4, 3, 6, 1, 5], True)) # Expecting (1, 6)\n",
        "print(min_or_max_index([4, 3, 2, 4, 3, 6, 1, 5], False)) # Expecting (6, 5)\n"
      ],
      "execution_count": 69,
      "outputs": [
        {
          "output_type": "stream",
          "name": "stdout",
          "text": [
            "(5, 7)\n",
            "(None, None)\n"
          ]
        }
      ]
    }
  ]
}