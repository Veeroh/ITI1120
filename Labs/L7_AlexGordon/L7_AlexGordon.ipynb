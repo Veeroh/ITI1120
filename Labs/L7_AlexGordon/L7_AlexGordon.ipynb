{
  "nbformat": 4,
  "nbformat_minor": 0,
  "metadata": {
    "colab": {
      "provenance": [],
      "collapsed_sections": []
    },
    "kernelspec": {
      "name": "python3",
      "display_name": "Python 3"
    }
  },
  "cells": [
    {
      "cell_type": "markdown",
      "metadata": {
        "id": "GrAKu-PaMM4R"
      },
      "source": [
        "# Course: ITI1120F Fall 2022\n",
        " \n",
        "# LAB 7 - Tasks\n",
        "\n",
        "# Alex Gordon\n",
        "# 300290267"
      ]
    },
    {
      "cell_type": "markdown",
      "metadata": {
        "id": "s9lTHfjApWn7"
      },
      "source": [
        "# Task 0"
      ]
    },
    {
      "cell_type": "code",
      "metadata": {
        "id": "AicaAny7pKum"
      },
      "source": [
        "# sum of positive odd integers smaller than n\n",
        "# with for loop\n",
        "def sum_odd_for(n):\n",
        "   odd_sum = 0\n",
        "   for num in range(n):\n",
        "      if num % 2 == 1:\n",
        "         odd_sum = odd_sum + num\n",
        "   return odd_sum  \n",
        "\n",
        "result=sum_odd_for(12)      \n",
        "print(result)"
      ],
      "execution_count": null,
      "outputs": []
    },
    {
      "cell_type": "code",
      "metadata": {
        "id": "Nc_PtylSpdr0"
      },
      "source": [
        "# sum of positive odd integers smaller than n\n",
        "# with while loop\n",
        "def sum_odd_while(n):\n",
        "   odd_sum = 0\n",
        "   i=1    # need to initialize\n",
        "   while i < n: \n",
        "      if i % 2 == 1:\n",
        "          odd_sum = odd_sum + i\n",
        "      i=i+1 \n",
        "# need to increment\n",
        "   return odd_sum\n",
        "\n",
        "result=sum_odd_while(12)      \n",
        "print(result)\n"
      ],
      "execution_count": null,
      "outputs": []
    },
    {
      "cell_type": "code",
      "metadata": {
        "id": "4__Sz1e3pgzv"
      },
      "source": [
        "# Sum of odd numbers in a given list a\n",
        "# with for loop\n",
        "def sum_list_for(a):\n",
        "    ''' (list)->num\n",
        "     Returns the sum of the odd elements in a given list a'''\n",
        "    list_sum = 0\n",
        "    for i in range(len(a)):\n",
        "       if a[i] % 2 == 1:\n",
        "          list_sum = list_sum + a[i]\n",
        "    return list_sum\n",
        "\n",
        "lst=[10,21,3]\n",
        "result=sum_list_for(lst)\n",
        "print(result)\n"
      ],
      "execution_count": null,
      "outputs": []
    },
    {
      "cell_type": "code",
      "metadata": {
        "id": "U38hOddIpnBi"
      },
      "source": [
        "# Sum of odd numbers in a given list a\n",
        "# with while loop\n",
        "def sum_list_while(a):\n",
        "    ''' (list)->num\n",
        "    Returns the sum of the odd elements in a given list a'''\n",
        "    list_sum = 0\n",
        "    i=0\n",
        "#initialize\n",
        "    while i < len(a):\n",
        "       if a[i] % 2 == 1:\n",
        "          list_sum = list_sum + a[i]\n",
        "       i=i+1 \n",
        "# increment \n",
        "    return list_sum\n",
        "\n",
        "lst=[10,21,3]\n",
        "result=sum_list_while(lst)\n",
        "print(result)\n"
      ],
      "execution_count": null,
      "outputs": []
    },
    {
      "cell_type": "code",
      "metadata": {
        "id": "rag1Yqedpqlu"
      },
      "source": [
        "# finding minimum with for loop over elements of the list a\n",
        "def minimum_for_v1(a):\n",
        "   ''' (list)->num\n",
        "   Returns a minimum element in a list\n",
        "   Precondition: length of list a is at least 1'''\n",
        "\n",
        "   minimum = a[0]\n",
        "   for element in a:\n",
        "      if element < minimum:\n",
        "         minimum = element\n",
        "   return minimum\n"
      ],
      "execution_count": null,
      "outputs": []
    },
    {
      "cell_type": "code",
      "metadata": {
        "id": "jCnzMOf0prnx"
      },
      "source": [
        "#finding minimum with for loop over indices of list a\n",
        "def minimum_for_v2(a):\n",
        "   ''' (list)->num\n",
        "   Returns a minimum element in a list\n",
        "   Precondition: length of list a is at least 1'''\n",
        "\n",
        "   minimum = a[0]\n",
        "   for i in range(len(a)):\n",
        "      if a[i] < minimum:\n",
        "         minimum = a[i]\n",
        "   return minimum\n"
      ],
      "execution_count": null,
      "outputs": []
    },
    {
      "cell_type": "code",
      "metadata": {
        "id": "uDJWclBlpsg5"
      },
      "source": [
        "### finding minimum with while loop\n",
        "def minimum_while(a):\n",
        "   ''' (list)->num\n",
        "   Returns a minimum element in a list\n",
        "   Precondition: length of list a is at least 1'''\n",
        "\n",
        "   minimum = a[0]\n",
        "   i=0\n",
        "   while i < len(a):\n",
        "      if a[i] < minimum:\n",
        "         minimum = a[i]\n",
        "      i=i+1\n",
        "   return minimum"
      ],
      "execution_count": null,
      "outputs": []
    },
    {
      "cell_type": "markdown",
      "metadata": {
        "id": "pYH8NJ4UXi0u"
      },
      "source": [
        "# <font color='Green'>**please write down your answer here : The first cell, sum_odd_while, the function takes all the odd integers of a number n, and sums them up; this is done using a while statement. In the second cell, sum_list_while, the function essentially does the same thing (sums up the odd integers in a number n), but instead takes the input of list rather than a single integer. In contast to the previous two, the third cell minimum_while looks for the integer of lowest value in a list. **<font>\n",
        "\n",
        "---\n",
        "\n",
        "\n",
        "\n",
        "\n",
        "\n",
        "\n"
      ]
    },
    {
      "cell_type": "markdown",
      "metadata": {
        "id": "1D3IGxq2t6qT"
      },
      "source": [
        "# Task 1"
      ]
    },
    {
      "cell_type": "code",
      "metadata": {
        "id": "gngLXujbt7g-",
        "outputId": "fd57cad2-ff5a-433b-bb48-98da18756d4f",
        "colab": {
          "base_uri": "https://localhost:8080/"
        }
      },
      "source": [
        "number = int(input('Enter an integer: '))\n",
        "apple = number\n",
        "\n",
        "while(number!=0):\n",
        "  number = int(input('Enter an integer: '))\n",
        "  if(number > apple):\n",
        "    apple = number\n",
        "print('apple is', apple)"
      ],
      "execution_count": null,
      "outputs": [
        {
          "output_type": "stream",
          "name": "stdout",
          "text": [
            "Enter an integer: 5\n",
            "Enter an integer: 2\n",
            "Enter an integer: 3\n",
            "Enter an integer: 6\n",
            "Enter an integer: 7\n",
            "Enter an integer: 4\n",
            "Enter an integer: 3\n",
            "Enter an integer: 1\n",
            "Enter an integer: 0\n",
            "apple is 7\n"
          ]
        }
      ]
    },
    {
      "cell_type": "markdown",
      "metadata": {
        "id": "ChCDI0LPYAiA"
      },
      "source": [
        "# <font color='Green'>**please write down your answer here : This program continues the prompt the user for numbers using a while loop until the user inputs 0, from which it would display the highest integer inputted in the format: (apple is #).**<font>\n",
        "\n",
        "---\n",
        "\n"
      ]
    },
    {
      "cell_type": "markdown",
      "metadata": {
        "id": "Vnk9hgwxu1NS"
      },
      "source": [
        "# Task 2"
      ]
    },
    {
      "cell_type": "code",
      "metadata": {
        "id": "l1zLSTvKuKP_"
      },
      "source": [
        "x = 10\n",
        "y = 100% 90\n",
        "i = 0\n",
        "while i < 10000:\n",
        "  if (x != y):\n",
        "    print('aha')\n",
        "  i = i + 1"
      ],
      "execution_count": null,
      "outputs": []
    },
    {
      "cell_type": "markdown",
      "metadata": {
        "id": "4eXuDnNpYB0y"
      },
      "source": [
        "# <font color='Green'>**please write down your answer here : The program prints the string 'aha' ZERO times. This is because 'aha' will only be printed if x doesn't equal y, however, x and y are both identical in values (x equals 10, and the 100 % 90 for y also equals 10). If x didn't equal y, then the program would print 'aha' 10000 times. **<font>\n",
        "\n",
        "---\n",
        "\n"
      ]
    },
    {
      "cell_type": "markdown",
      "metadata": {
        "id": "8Bxd4CUmu5Sq"
      },
      "source": [
        "# Task 3"
      ]
    },
    {
      "cell_type": "code",
      "metadata": {
        "id": "ORa9xCGEu3oy"
      },
      "source": [
        "\n",
        "def is_prime(n):\n",
        "  if (n<2):         #if statement makes sure n is greater than 2\n",
        "    return False\n",
        "  for divisor in range(2, n//2+1):\n",
        "    if n % divisor == 0:\n",
        "      return False\n",
        "    else:\n",
        "      return True\n",
        "  return True\n",
        "\n",
        "  print(is_prime(x))"
      ],
      "execution_count": null,
      "outputs": []
    },
    {
      "cell_type": "markdown",
      "metadata": {
        "id": "kT7BShYnYDGC"
      },
      "source": [
        "# <font color='Green'>**please write down your answer here :  \n",
        "1. I believe that the mistake in this function is the lack of an if statement, which makes sure no values that are negative and less than 2 appear. \n",
        "2. I think the smallest number it can return is 4, since it'll be in range of the for loop (2,3) **<font>\n",
        "\n",
        "---\n",
        "\n"
      ]
    }
  ]
}