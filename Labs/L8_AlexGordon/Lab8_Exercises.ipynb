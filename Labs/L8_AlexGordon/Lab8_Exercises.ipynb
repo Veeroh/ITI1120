{
  "nbformat": 4,
  "nbformat_minor": 0,
  "metadata": {
    "colab": {
      "provenance": [],
      "collapsed_sections": []
    },
    "kernelspec": {
      "name": "python3",
      "display_name": "Python 3"
    }
  },
  "cells": [
    {
      "cell_type": "markdown",
      "metadata": {
        "id": "89RKfwG2A3iO"
      },
      "source": [
        "# Course: ITI1120 - F Fall 2022\n",
        " \n",
        "# LAB 8 - Exercises"
      ]
    },
    {
      "cell_type": "markdown",
      "metadata": {
        "id": "9zrbKm_NA7Ns"
      },
      "source": [
        "# Exercise 0"
      ]
    },
    {
      "cell_type": "code",
      "metadata": {
        "id": "4W5dfnVgBQoi"
      },
      "source": [
        "# programming exercise  0\n",
        "import random\n",
        "def make_matrix_random(a, b, x, y):\n",
        "     '''(int,int,int,int)->2D list\n",
        "     Returns a 2D list representing a matrix with a rows and b columns\n",
        "     filled with random integers >=x and <=y\n",
        "     Precondition: a,b positive and x <=y\n",
        "     '''\n",
        "    "
      ],
      "execution_count": null,
      "outputs": []
    },
    {
      "cell_type": "code",
      "metadata": {
        "id": "AAXCS5uWMwfd",
        "colab": {
          "base_uri": "https://localhost:8080/",
          "height": 68
        },
        "outputId": "f095b487-6de4-4eea-dcda-21af1e48ea2e"
      },
      "source": [
        "print(make_matrix_random(3, 5, 0, 10))  # the function should have randomness, thus no expecting result\n",
        "print(make_matrix_random(2, 4, 10, 20)) # the function should have randomness, thus no expecting result\n",
        "print(make_matrix_random(5, 3, 0, 10))  # the function should have randomness, thus no expecting result"
      ],
      "execution_count": null,
      "outputs": [
        {
          "output_type": "stream",
          "text": [
            "[[6, 2, 0, 6, 1], [6, 8, 2, 5, 8], [0, 6, 3, 2, 3]]\n",
            "[[11, 11, 16, 11], [15, 11, 16, 11]]\n",
            "[[7, 3, 6], [5, 8, 2], [6, 8, 6], [4, 3, 1], [10, 7, 9]]\n"
          ],
          "name": "stdout"
        }
      ]
    },
    {
      "cell_type": "markdown",
      "metadata": {
        "id": "kbxWcyt5IW0w"
      },
      "source": [
        "# Exercise 1"
      ]
    },
    {
      "cell_type": "code",
      "metadata": {
        "id": "lV9UIlMkIVJ5"
      },
      "source": [
        "# programming exercise  1\n",
        "def sum_above_diagonal(m):\n",
        "     '''(2D list)->number\n",
        "     Returns the sum of the elements of the matarix m that are on or about the diagonal of m\n",
        "     (for clarification see the slide entitled: Details about Prog Ex 2)\n",
        "     Precondition: m is a square matrix filled with numbers\n",
        "     \n",
        "     >>> sum_above_diagonal([[1,2],[10,20]] )\n",
        "     23\n",
        "     '''\n",
        "     "
      ],
      "execution_count": null,
      "outputs": []
    },
    {
      "cell_type": "code",
      "metadata": {
        "id": "zPKf7zE8NWTu",
        "colab": {
          "base_uri": "https://localhost:8080/",
          "height": 68
        },
        "outputId": "52ade983-218e-45cd-ef8f-fd78b7b4353f"
      },
      "source": [
        "print(sum_above_diagonal([[6, 2, 0, 6, 1], [6, 8, 2, 5, 8], [0, 6, 3, 2, 3]])) #Excepting 46\n",
        "print(sum_above_diagonal([[11, 11, 16, 11], [15, 11, 16, 11]])) #Excepting 87\n",
        "print(sum_above_diagonal([[7, 3, 6], [5, 8, 2], [6, 8, 6], [4, 3, 1], [10, 7, 9]])) #Excepting 32\n",
        "print(sum_above_diagonal([[1,2],[10,20]])) #Excepting 23"
      ],
      "execution_count": null,
      "outputs": [
        {
          "output_type": "stream",
          "text": [
            "46\n",
            "87\n",
            "32\n"
          ],
          "name": "stdout"
        }
      ]
    },
    {
      "cell_type": "markdown",
      "metadata": {
        "id": "zVG6G9XdMkk3"
      },
      "source": [
        "# Exercise 2"
      ]
    },
    {
      "cell_type": "code",
      "metadata": {
        "id": "JndrzvOnMm9P"
      },
      "source": [
        "# programming exercise  2\n",
        "def max_over_all_even_cols(m):\n",
        "     '''(2D list)->number\n",
        "     Returns the maximum element among all the numbers that are in even columns of m\n",
        "     i.e the maximum element amoung all elements in 0th, 2th, 4th etc. column\n",
        "     Precondition: m is a matrix filled with numbers with at least 1 row and 1 column\n",
        "     \n",
        "     >>> max_over_all_even_cols([[1,1,1,1,1,1,1],[1,10,3,20,12,6,0]])\n",
        "     12\n",
        "     '''\n",
        "     "
      ],
      "execution_count": null,
      "outputs": []
    },
    {
      "cell_type": "code",
      "metadata": {
        "id": "5xjdjfwCOBTL",
        "colab": {
          "base_uri": "https://localhost:8080/",
          "height": 51
        },
        "outputId": "26c1fcdc-74b2-443e-a009-bbf82f28849c"
      },
      "source": [
        "print(max_over_all_even_cols([[1,1,1,1,1,1,1],[1,10,3,20,12,6,0]])) # Expecting 12\n",
        "print(max_over_all_even_cols([[1,2,1,2,1,2,1],[1,10,20,2,12,6,0]])) # Expecting 20"
      ],
      "execution_count": null,
      "outputs": [
        {
          "output_type": "stream",
          "text": [
            "12\n",
            "20\n"
          ],
          "name": "stdout"
        }
      ]
    },
    {
      "cell_type": "markdown",
      "metadata": {
        "id": "oXvh1l_aMo71"
      },
      "source": [
        "# Exercise 3"
      ]
    },
    {
      "cell_type": "code",
      "metadata": {
        "id": "aEaSfqrbMqdP"
      },
      "source": [
        "#programming exercise 3\n",
        "def max_each_row(m):\n",
        "     '''(2D list)->list\n",
        "     Returns a list where in position p of the list is the max number among all the numebrs of p-th row of m\n",
        "     Precondition: m is a matrix filled with numbers\n",
        "\n",
        "     >>> max_each_row([[1,2],[200,0],[3,3],[-10,-20]])\n",
        "     [2, 200, 3, -10]\n",
        "     '''"
      ],
      "execution_count": null,
      "outputs": []
    },
    {
      "cell_type": "code",
      "metadata": {
        "id": "XntrprYAOeyH",
        "colab": {
          "base_uri": "https://localhost:8080/",
          "height": 68
        },
        "outputId": "4e6071a3-c30f-490d-99af-03d7ca28c442"
      },
      "source": [
        "print(max_each_row([[1,2],[200,0],[3,3],[-10,-20]])) # Expecting [2, 200, 3, -10]\n",
        "print(max_each_row([[100,2],[-200,0],[3,6],[-10,-20]])) # Expecting [100, 0, 6, -10]\n",
        "print(max_each_row([[1,2, 3],[10,20,56, 78],[3,2],[-20]])) # Expecting [3, 78, 3, -20]"
      ],
      "execution_count": null,
      "outputs": [
        {
          "output_type": "stream",
          "text": [
            "[2, 200, 3, -10]\n",
            "[100, 0, 6, -10]\n",
            "[3, 78, 3, -20]\n"
          ],
          "name": "stdout"
        }
      ]
    },
    {
      "cell_type": "markdown",
      "metadata": {
        "id": "qXgMUvRAMshr"
      },
      "source": [
        "# Exercise 4"
      ]
    },
    {
      "cell_type": "code",
      "metadata": {
        "id": "89xxLDjCMvS5"
      },
      "source": [
        "# programming exercise  4\n",
        "def index_of_max_sum_row(m):\n",
        "     '''(2D list)->int\n",
        "     Returns the index of a row that has the largest sum of all the rows\n",
        "     Precondition: m is a matrix filled with numbers\n",
        "     >>> index_of_max_sum_row([[100,100], [-100,0], [200,30], [1,2]])\n",
        "     2\n",
        "     >>> index_of_max_sum_row([[100,100], [-100,0], [200,30], [10000,2]])\n",
        "     3\n",
        "     '''\n"
      ],
      "execution_count": null,
      "outputs": []
    },
    {
      "cell_type": "code",
      "metadata": {
        "id": "_OduLtoxPAXE",
        "colab": {
          "base_uri": "https://localhost:8080/",
          "height": 51
        },
        "outputId": "6b0cd32a-a6a5-4341-cec7-a4246be676ce"
      },
      "source": [
        "print(index_of_max_sum_row([[100,100], [-100,0], [200,30], [1,2]])) # Expecting 2\n",
        "print(index_of_max_sum_row([[100,100], [-100,0], [200,30], [10000,2]])) # Expecting 3\n"
      ],
      "execution_count": null,
      "outputs": [
        {
          "output_type": "stream",
          "text": [
            "2\n",
            "3\n"
          ],
          "name": "stdout"
        }
      ]
    },
    {
      "cell_type": "markdown",
      "metadata": {
        "id": "Js3FpxAPBEAy"
      },
      "source": [
        "#Exercise 5"
      ]
    },
    {
      "cell_type": "code",
      "metadata": {
        "id": "De19hAIbRH31"
      },
      "source": [
        "def magic(m):\n",
        "     '''2D list->bool\n",
        "     Returns True if m forms a magic square\n",
        "     Precondition: m is a matrix with at least 2 rows and 2 columns '''\n",
        "\n"
      ],
      "execution_count": null,
      "outputs": []
    },
    {
      "cell_type": "code",
      "metadata": {
        "id": "lQll_W54RQHq",
        "colab": {
          "base_uri": "https://localhost:8080/",
          "height": 102
        },
        "outputId": "835a9e56-55b8-4a02-a547-23ab6ea3b8c3"
      },
      "source": [
        "# main\n",
        "# TESTING OF magic functions\n",
        "# this should print True\n",
        "\n",
        "m0=[[2,7, 6],[9,5,1],[4,3,8]]\n",
        "print(magic(m0))\n",
        "    \n",
        "# this should print True\n",
        "m1 = [[16,3,2,13], [5,10,11,8],[9,6,7,12], [4,15,14,1]]\n",
        "print(magic(m1))\n",
        "    \n",
        "# this should print False. Why? Which condition imposed on magic squares is not true for m3\n",
        "m2 = [[1,2,3,4], [5,6,7,8],[9,10,11,12], [13,14,15,16]]\n",
        "print(magic(m2))\n",
        "    \n",
        "#this should print False. Why? Which condition imposed on magic squares is not true for m3\n",
        "m3 =  [[1,1],[1,1]]\n",
        "print(magic(m3))\n",
        "\n",
        "# #this should print False. Why? Which condition imposed on magic squares is not \n",
        "m3 =  [[1,1],[1,1],[1,2]]\n",
        "print(magic(m3))\n"
      ],
      "execution_count": null,
      "outputs": [
        {
          "output_type": "stream",
          "text": [
            "True\n",
            "True\n",
            "False\n",
            "False\n",
            "False\n"
          ],
          "name": "stdout"
        }
      ]
    },
    {
      "cell_type": "markdown",
      "metadata": {
        "id": "SZJh0FYlSJVi"
      },
      "source": [
        "# Exercise 6"
      ]
    },
    {
      "cell_type": "code",
      "metadata": {
        "id": "k1NydCQe6YO6",
        "colab": {
          "base_uri": "https://localhost:8080/",
          "height": 34
        },
        "outputId": "8a0a875d-7b46-4ea7-d00d-051abdf84d2b"
      },
      "source": [
        "from google.colab import drive\n",
        "drive.mount('/content/drive/')"
      ],
      "execution_count": null,
      "outputs": [
        {
          "output_type": "stream",
          "text": [
            "Drive already mounted at /content/drive/; to attempt to forcibly remount, call drive.mount(\"/content/drive/\", force_remount=True).\n"
          ],
          "name": "stdout"
        }
      ]
    },
    {
      "cell_type": "code",
      "metadata": {
        "id": "mlkCY0hm61Gf",
        "colab": {
          "base_uri": "https://localhost:8080/",
          "height": 71
        },
        "outputId": "9c7cd03c-cd26-405b-fe15-fb18db78ca0a"
      },
      "source": [
        "def create_books_2Dlist(file_name):\n",
        "    '''None->2D list'''\n"
      ],
      "execution_count": null,
      "outputs": [
        {
          "output_type": "stream",
          "text": [
            "Enter the name of the file: NYT_short.txt\n",
            "[['1976-04-11', '1876', 'Gore Vidal', 'Random House', 'Fiction'], ['2011-11-27', '23337', 'Stephen King', 'Scribner', 'Fiction'], ['1984-07-08', '...and Ladies of the Club', 'Helen Hooven Santmeyer', 'Putnam', 'Fiction'], ['2001-03-25', '1st to Die', 'James Patterson', 'Little, Brown', 'Fiction'], ['2002-03-24', '2nd Chance', 'James Patterson', 'Little, Brown', 'Fiction'], ['2004-03-21', '3rd Degree', 'James Patterson', 'Little, Brown', 'Fiction'], ['2005-05-22', '4th of July', 'James Patterson', 'Little, Brown', 'Fiction'], ['2010-06-06', '61 Hours', 'Lee Child', 'Delacorte', 'Fiction'], ['2005-10-16', 'A Breath of Snow and Ashes', 'Diana Gabaldon', 'Delacorte', 'Fiction'], ['2001-04-29', 'A Common Life', 'Jan Karon', 'Viking', 'Fiction'], ['2011-07-31', 'A Dance With Dragons', 'George R. R. Martin', 'Bantam', 'Fiction'], ['2001-02-04', 'A Day Late and a Dollar Short', 'Terry McMillan', 'Viking', 'Fiction'], ['2005-11-27', 'A Feast For Crows', 'George R. R. Martin', 'Bantam', 'Fiction'], ['1945-07-01', 'A Lion Is In the Streets', 'Adria Locke Langley', 'McGraw', 'Fiction'], ['1998-11-22', 'A Man In Full', 'Tom Wolfe', 'Farrar, Straus & Giroux', 'Fiction'], ['2001-02-25', 'A Painted House', 'John Grisham', 'Doubleday', 'Fiction']]\n"
          ],
          "name": "stdout"
        }
      ]
    },
    {
      "cell_type": "code",
      "metadata": {
        "id": "6Izm2UeDQUEa",
        "colab": {
          "base_uri": "https://localhost:8080/",
          "height": 54
        },
        "outputId": "9e739a43-e1fa-4d92-e0c0-ff397a732b6c"
      },
      "source": [
        "books=create_books_2Dlist('NYT_short.txt')\n",
        "print(books)"
      ],
      "execution_count": null,
      "outputs": [
        {
          "output_type": "stream",
          "text": [
            "[['1976-04-11', '1876', 'Gore Vidal', 'Random House', 'Fiction'], ['2011-11-27', '23337', 'Stephen King', 'Scribner', 'Fiction'], ['1984-07-08', '...and Ladies of the Club', 'Helen Hooven Santmeyer', 'Putnam', 'Fiction'], ['2001-03-25', '1st to Die', 'James Patterson', 'Little, Brown', 'Fiction'], ['2002-03-24', '2nd Chance', 'James Patterson', 'Little, Brown', 'Fiction'], ['2004-03-21', '3rd Degree', 'James Patterson', 'Little, Brown', 'Fiction'], ['2005-05-22', '4th of July', 'James Patterson', 'Little, Brown', 'Fiction'], ['2010-06-06', '61 Hours', 'Lee Child', 'Delacorte', 'Fiction'], ['2005-10-16', 'A Breath of Snow and Ashes', 'Diana Gabaldon', 'Delacorte', 'Fiction'], ['2001-04-29', 'A Common Life', 'Jan Karon', 'Viking', 'Fiction'], ['2011-07-31', 'A Dance With Dragons', 'George R. R. Martin', 'Bantam', 'Fiction'], ['2001-02-04', 'A Day Late and a Dollar Short', 'Terry McMillan', 'Viking', 'Fiction'], ['2005-11-27', 'A Feast For Crows', 'George R. R. Martin', 'Bantam', 'Fiction'], ['1945-07-01', 'A Lion Is In the Streets', 'Adria Locke Langley', 'McGraw', 'Fiction'], ['1998-11-22', 'A Man In Full', 'Tom Wolfe', 'Farrar, Straus & Giroux', 'Fiction'], ['2001-02-25', 'A Painted House', 'John Grisham', 'Doubleday', 'Fiction']]\n"
          ],
          "name": "stdout"
        }
      ]
    },
    {
      "cell_type": "code",
      "metadata": {
        "id": "5WO3VPKkQWl5"
      },
      "source": [
        "def search_by_year(books, year1, year2):\n",
        "    '''(2D list)->None'''"
      ],
      "execution_count": null,
      "outputs": []
    },
    {
      "cell_type": "code",
      "metadata": {
        "id": "Mb6g0CgEQhks",
        "colab": {
          "base_uri": "https://localhost:8080/",
          "height": 357
        },
        "outputId": "698b4094-2f8c-43ff-b8c4-cbf30c9d6c97"
      },
      "source": [
        "print(search_by_year(books, 2005, 2005))\n",
        "print(search_by_year(books, 1945, 1999))\n",
        "print(search_by_year(books, 2016, 2017))"
      ],
      "execution_count": null,
      "outputs": [
        {
          "output_type": "stream",
          "text": [
            "\n",
            "All Titles between 2005 and 2005:\n",
            "\n",
            "4th of July, by James Patterson (2005-05-22)\n",
            "A Breath of Snow and Ashes, by Diana Gabaldon (2005-10-16)\n",
            "A Feast For Crows, by George R. R. Martin (2005-11-27)\n",
            "None\n",
            "\n",
            "All Titles between 1945 and 1999:\n",
            "\n",
            "1876, by Gore Vidal (1976-04-11)\n",
            "...and Ladies of the Club, by Helen Hooven Santmeyer (1984-07-08)\n",
            "A Lion Is In the Streets, by Adria Locke Langley (1945-07-01)\n",
            "A Man In Full, by Tom Wolfe (1998-11-22)\n",
            "None\n",
            "\n",
            "All Titles between 2016 and 2017:\n",
            "\n",
            "No books found in that range of years.\n",
            "None\n"
          ],
          "name": "stdout"
        }
      ]
    }
  ]
}