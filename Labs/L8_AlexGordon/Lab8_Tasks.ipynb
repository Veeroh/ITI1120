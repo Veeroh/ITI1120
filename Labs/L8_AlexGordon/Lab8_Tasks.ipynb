{
  "nbformat": 4,
  "nbformat_minor": 0,
  "metadata": {
    "colab": {
      "provenance": [],
      "collapsed_sections": []
    },
    "kernelspec": {
      "name": "python3",
      "display_name": "Python 3"
    }
  },
  "cells": [
    {
      "cell_type": "markdown",
      "metadata": {
        "id": "jmjQjMAzB5O-"
      },
      "source": [
        "# Course: ITI1120 - F Fall 2022\n",
        " \n",
        "# LAB 8 - Tasks"
      ]
    },
    {
      "cell_type": "markdown",
      "metadata": {
        "id": "aXr01G4FB_-J"
      },
      "source": [
        "## matrix functions"
      ]
    },
    {
      "cell_type": "code",
      "metadata": {
        "id": "bkJOy_GVB1sL"
      },
      "source": [
        "import random\n",
        "\n",
        "def get_matrix_dimensions():\n",
        "     got_it_flag=False\n",
        "     while not(got_it_flag):\n",
        "          try:\n",
        "               a=int(input(\"Enter a positive number for the number of rows: \"))\n",
        "               b=int(input(\"Enter a positive number for the number of columns: \"))\n",
        "               if(a>0 and b>0):\n",
        "                    got_it_flag=True\n",
        "               else:\n",
        "                    print(\"Both numbers must be positive integers\")\n",
        "          except ValueError:\n",
        "               print(\"Both numbers must be an integer\")\n",
        "               \n",
        "     return (a,b) # note that this returns a tuple, i.e. immutable list of lenght 2\n"
      ],
      "execution_count": null,
      "outputs": []
    },
    {
      "cell_type": "code",
      "metadata": {
        "id": "exA_eulKB29s"
      },
      "source": [
        "\n",
        "def make_matrix(a,b, value):\n",
        "     '''(int,int,Object)->2D list\n",
        "\n",
        "     Returns a 2D list representing a matarix with a rows and b columns\n",
        "     where each element of the matrix is equal to the given value\n",
        "     Note that the value can be anything, number, string, None ...\n",
        "     In that case type contract should just say \"Object\"\n",
        "     \n",
        "     Precondition: a and b are both positive integers\n",
        "     '''\n",
        "\n",
        "     m=[] # make an empty list\n",
        "     for i in range(a):\n",
        "          row=[] # make an empty row\n",
        "          for j in range (b):\n",
        "               row.append(value)\n",
        "          m.append(row)\n",
        "     return m\n",
        "     \n"
      ],
      "execution_count": null,
      "outputs": []
    },
    {
      "cell_type": "code",
      "metadata": {
        "id": "BZu9accsDMiR"
      },
      "source": [
        "def print_matrix(m):\n",
        "     '''(2D list)->None\n",
        "     prints values in 2D list m row by row'''\n",
        "     for row in m:\n",
        "          for item in row:         #print item followed by \n",
        "               print(item, end=' ')    #a blank space\n",
        "          print()                  # move to next line\n",
        "\n"
      ],
      "execution_count": null,
      "outputs": []
    },
    {
      "cell_type": "code",
      "metadata": {
        "id": "HL4ocDtEDNql"
      },
      "source": [
        "def increment_all_matrix(m):\n",
        "     '''(2D list)->None\n",
        "        increments each number in 2D list m by 1\n",
        "        Precondition: m represents a matrix, i.e. each element of m is a list of same length; and\n",
        "                      all elements of the matrix a numbers'''\n",
        "     nrows=len(m)\n",
        "     ncols=len(m[0]) # we can do this since all elements of m  \n",
        "     for i in range(nrows):\n",
        "          for j in range(ncols):\n",
        "               m[i][j]=m[i][j]+1\n",
        "\n"
      ],
      "execution_count": null,
      "outputs": []
    },
    {
      "cell_type": "code",
      "metadata": {
        "id": "rWA_hWytDO-r"
      },
      "source": [
        "\n",
        "def min_matrix(m):\n",
        "     '''(2D list)->number\n",
        "     Returns the minimum number from the given 2D list m\n",
        "     Precondition: m represents a matrix all of whose elements are numbers and\n",
        "                   and m has at least 1 raw and 1 columb'''\n",
        "     \n",
        "     minimum=m[0][0]\n",
        "     for i in range(len(m)):\n",
        "          for j in range(len(m[i])):\n",
        "               if m[i][j] < minimum: # if yes, we found smaller number\n",
        "                    minimum=m[i][j]  # update minimum\n",
        "     return minimum\n"
      ],
      "execution_count": null,
      "outputs": []
    },
    {
      "cell_type": "code",
      "metadata": {
        "id": "VQCYnWixDP4A"
      },
      "source": [
        "\n",
        "def sum_each_col(m):\n",
        "     '''(2D list)->list\n",
        "     Returns a list where in position p of the list is the sum of the elements of p-th column of m\n",
        "     Precondition: m represents a matrix all of whose elements are numbers and\n",
        "                   and m has at least 1 raw and 1 columb'''\n",
        "     nrows=len(m)\n",
        "     ncols=len(m[0])\n",
        "     sums=[]\n",
        "     for j in range(ncols):\n",
        "          col_sum=0\n",
        "          for i in range(nrows):\n",
        "               col_sum=col_sum+m[i][j]\n",
        "          sums.append(col_sum)\n",
        "     return sums  "
      ],
      "execution_count": null,
      "outputs": []
    },
    {
      "cell_type": "code",
      "metadata": {
        "id": "l177u7IAKWRF",
        "colab": {
          "base_uri": "https://localhost:8080/",
          "height": 221
        },
        "outputId": "198850d3-5d8e-487f-f304-74cb1ab63652"
      },
      "source": [
        "dimensions=get_matrix_dimensions()\n",
        "a=dimensions[0]\n",
        "b=dimensions[1]\n",
        "print('The first integer entered is:', a)\n",
        "print('The second integer entered is:', b)\n",
        "\n",
        "# creat an a x b matrix, called m, filled with 1s\n",
        "m=make_matrix(a,b,1)\n",
        "print_matrix(m)\n",
        "\n",
        "# make a call to increment_all_matrix\n",
        "increment_all_matrix(m)\n",
        "print_matrix(m)\n",
        "\n",
        "# testing min_matrix function\n",
        "print(min_matrix([[1,2,0],[-1,1,100],[100,-2,5]]))\n",
        "\n",
        "# testing sum_each_col funciton\n",
        "print( sum_each_col([[1,2,10],[1,2,10],[0,0,0]]) )\n"
      ],
      "execution_count": null,
      "outputs": [
        {
          "output_type": "stream",
          "text": [
            "Enter a positive number for the number of rows: 3\n",
            "Enter a positive number for the number of columns: 4\n",
            "The first integer entered is: 3\n",
            "The second integer entered is: 4\n",
            "1 1 1 1 \n",
            "1 1 1 1 \n",
            "1 1 1 1 \n",
            "2 2 2 2 \n",
            "2 2 2 2 \n",
            "2 2 2 2 \n",
            "-2\n",
            "[2, 4, 20]\n"
          ],
          "name": "stdout"
        }
      ]
    },
    {
      "cell_type": "markdown",
      "metadata": {
        "id": "PXoVZu2SDRl3"
      },
      "source": [
        "## Colab File Loading"
      ]
    },
    {
      "cell_type": "markdown",
      "metadata": {
        "id": "uNWkMHlhDguo"
      },
      "source": [
        "**You should read through all of the following steps before you get start.**\n",
        "\n",
        "First of all, you have to authorize Colab's access by running the following cell. \n",
        "\n",
        "By running it, you should see an **url link** and a ***text field***. \n",
        "\n",
        "Click on the link and use your **UOttawa** email to login. \n",
        "\n",
        "After so, you should click **allow** and then see the authorization code displaied to the page.\n",
        "\n",
        "Then, copy the authorization code to the ***text field***. \n",
        "\n",
        "At least, once you copied authorization code, hit **enter** key by your keyboard. "
      ]
    },
    {
      "cell_type": "code",
      "metadata": {
        "id": "lPaBgD2rDfcN",
        "colab": {
          "base_uri": "https://localhost:8080/",
          "height": 122
        },
        "outputId": "f5be64c1-e026-4726-d09d-8fd0056d51e2"
      },
      "source": [
        "from google.colab import drive\n",
        "drive.mount('/content/drive/')"
      ],
      "execution_count": null,
      "outputs": [
        {
          "output_type": "stream",
          "text": [
            "Go to this URL in a browser: https://accounts.google.com/o/oauth2/auth?client_id=947318989803-6bn6qk8qdgf4n4g3pfee6491hc0brc4i.apps.googleusercontent.com&redirect_uri=urn%3aietf%3awg%3aoauth%3a2.0%3aoob&response_type=code&scope=email%20https%3a%2f%2fwww.googleapis.com%2fauth%2fdocs.test%20https%3a%2f%2fwww.googleapis.com%2fauth%2fdrive%20https%3a%2f%2fwww.googleapis.com%2fauth%2fdrive.photos.readonly%20https%3a%2f%2fwww.googleapis.com%2fauth%2fpeopleapi.readonly\n",
            "\n",
            "Enter your authorization code:\n",
            "··········\n",
            "Mounted at /content/drive/\n"
          ],
          "name": "stdout"
        }
      ]
    },
    {
      "cell_type": "markdown",
      "metadata": {
        "id": "B8En5sdoFWWw"
      },
      "source": [
        "At this moment, if you saw message \"Mounted at /content/drive/\", then you now have access to the files stored in your UOttawa google drive. \n",
        "\n",
        "If you have not put this file amoung other lab matrials in to the directoary \"ITI1120/Lab8\", please do it now. \n",
        "\n",
        "Otherwise, the following code is unlikely to run.\n"
      ]
    },
    {
      "cell_type": "code",
      "metadata": {
        "id": "Y0MWMYBeD1nD"
      },
      "source": [
        "def create_alctable(file_name):\n",
        "    '''(str)->list of lists where each \"inner\" list has 3 elements\n",
        "    Returns the list as described above\n",
        "    '''\n",
        "    dirctory_on_your_drive = '/content/drive/My Drive/ITI1120/Lab8/'\n",
        "    # this opens, reads the file and places each line as a string into list called alc\n",
        "    alc=open(dirctory_on_your_drive+file_name).read().splitlines()\n",
        "    \n",
        "    print(\"\\nHere is what is in alc after open(file_name).read().splitlines() is run:\\n\")\n",
        "    print(alc)\n",
        "\n",
        "    # run help(list.pop) in Python shell to see what method .pop() does\n",
        "    # the next 3 lines remove the first three lines/elements of alc.\n",
        "    alc.pop(0)\n",
        "    alc.pop(0)\n",
        "    alc.pop(0)\n",
        "    print(\"\\nHere is what is alc after first 3 lines/elements of alc are removed:\\n\")\n",
        "    print(alc)\n",
        "\n",
        "    # make empty table \n",
        "    alc_table=[]\n",
        "\n",
        "    print()\n",
        "    # this for loop populates the table with lists containing info about each metal in the file\n",
        "    for metal in alc:\n",
        "        metal=metal.split(\" \")\n",
        "        print(\"Here is what the info about each metal looks like after a split:\")\n",
        "        print(metal)\n",
        "        name=metal[0].strip() #.strip() cleans up extra white space if there is any\n",
        "        atomic_num_str=metal[1].strip()\n",
        "        # the next line figures out what the atomic number is (by ignoring star)\n",
        "        atomic_num=int(atomic_num_str[ : len(atomic_num_str) -1]) \n",
        "        atomic_weight=float(metal[2].strip())\n",
        "\n",
        "        # add the list cointaing info about current metal to the table\n",
        "        alc_table.append( [ name,atomic_num, atomic_weight  ]  )       \n",
        " \n",
        "    return alc_table\n"
      ],
      "execution_count": null,
      "outputs": []
    },
    {
      "cell_type": "code",
      "metadata": {
        "id": "plZGZAV7HAV2"
      },
      "source": [
        "\n",
        "def nice_print(table):\n",
        "    for metal in table:\n",
        "        for info in metal:\n",
        "            print(info, end='  ')\n",
        "        print()\n"
      ],
      "execution_count": null,
      "outputs": []
    },
    {
      "cell_type": "code",
      "metadata": {
        "id": "-6QJjZcYHBso",
        "colab": {
          "base_uri": "https://localhost:8080/",
          "height": 632
        },
        "outputId": "a89d4a06-a175-4ab0-bc75-78842bc78c5c"
      },
      "source": [
        "        \n",
        "        \n",
        "# main\n",
        "file_name=input(\"Enter the name of the file: \")\n",
        "file_name=file_name.strip()\n",
        "alc_table=create_alctable(file_name)\n",
        "print(\"\\nHere is what the final 2Dlist/table looks like:\\n\")\n",
        "print(alc_table)\n",
        "\n",
        "print(\"\\nHere is what it looks like in humany printable form:\\n\")\n",
        "nice_print(alc_table)\n",
        "\n",
        "\n"
      ],
      "execution_count": null,
      "outputs": [
        {
          "output_type": "stream",
          "text": [
            "Enter the name of the file: alkaline_metals.txt\n",
            "\n",
            "Here is what is in alc after open(file_name).read().splitlines() is run:\n",
            "\n",
            "['This file contains  contains ', 'the name, atomic number, and atomic weight of the alkaline earth metals separated by space', '', 'beryllium 4* 9.012', 'magnesium 12* 24.305', 'calcium 20* 20.078', 'strontium 38* 87.62', 'barium 56* 137.327', 'radium 88* 226']\n",
            "\n",
            "Here is what is alc after first 3 lines/elements of alc are removed:\n",
            "\n",
            "['beryllium 4* 9.012', 'magnesium 12* 24.305', 'calcium 20* 20.078', 'strontium 38* 87.62', 'barium 56* 137.327', 'radium 88* 226']\n",
            "\n",
            "Here is what the info about each metal looks like after a split:\n",
            "['beryllium', '4*', '9.012']\n",
            "Here is what the info about each metal looks like after a split:\n",
            "['magnesium', '12*', '24.305']\n",
            "Here is what the info about each metal looks like after a split:\n",
            "['calcium', '20*', '20.078']\n",
            "Here is what the info about each metal looks like after a split:\n",
            "['strontium', '38*', '87.62']\n",
            "Here is what the info about each metal looks like after a split:\n",
            "['barium', '56*', '137.327']\n",
            "Here is what the info about each metal looks like after a split:\n",
            "['radium', '88*', '226']\n",
            "\n",
            "Here is what the final 2Dlist/table looks like:\n",
            "\n",
            "[['beryllium', 4, 9.012], ['magnesium', 12, 24.305], ['calcium', 20, 20.078], ['strontium', 38, 87.62], ['barium', 56, 137.327], ['radium', 88, 226.0]]\n",
            "\n",
            "Here is what it looks like in humany printable form:\n",
            "\n",
            "beryllium  4  9.012  \n",
            "magnesium  12  24.305  \n",
            "calcium  20  20.078  \n",
            "strontium  38  87.62  \n",
            "barium  56  137.327  \n",
            "radium  88  226.0  \n"
          ],
          "name": "stdout"
        }
      ]
    },
    {
      "cell_type": "code",
      "metadata": {
        "id": "qLm23kCgHVrO"
      },
      "source": [],
      "execution_count": null,
      "outputs": []
    }
  ]
}